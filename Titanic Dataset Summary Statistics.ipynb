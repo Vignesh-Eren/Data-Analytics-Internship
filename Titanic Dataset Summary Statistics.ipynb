{
 "cells": [
  {
   "cell_type": "code",
   "execution_count": 1,
   "id": "616527ee",
   "metadata": {},
   "outputs": [],
   "source": [
    "# Step 1: Import necessary libraries\n",
    "import pandas as pd"
   ]
  },
  {
   "cell_type": "code",
   "execution_count": 2,
   "id": "ccae4411",
   "metadata": {},
   "outputs": [],
   "source": [
    "# Step 2: Load the cleaned dataset\n",
    "cleaned_train_df = pd.read_csv('cleaned_train.csv')"
   ]
  },
  {
   "cell_type": "code",
   "execution_count": 3,
   "id": "94098b6b",
   "metadata": {},
   "outputs": [],
   "source": [
    "# Step 3: Display summary statistics\n",
    "summary_stats = cleaned_train_df.describe()"
   ]
  },
  {
   "cell_type": "code",
   "execution_count": 4,
   "id": "cb79e226",
   "metadata": {},
   "outputs": [],
   "source": [
    "# Step 4: Calculate mode separately\n",
    "mode_stats = cleaned_train_df.mode().transpose()[0]"
   ]
  },
  {
   "cell_type": "code",
   "execution_count": 5,
   "id": "75ba63a4",
   "metadata": {},
   "outputs": [
    {
     "name": "stdout",
     "output_type": "stream",
     "text": [
      "Summary Statistics:\n",
      "       PassengerId    Survived     Pclass         Age       SibSp       Parch  \\\n",
      "count   775.000000  775.000000  775.00000  775.000000  775.000000  775.000000   \n",
      "mean    445.806452    0.339355    2.48000   28.748710    0.437419    0.340645   \n",
      "std     260.116285    0.473796    0.73439   12.782123    0.899838    0.785914   \n",
      "min       1.000000    0.000000    1.00000    0.420000    0.000000    0.000000   \n",
      "25%     213.500000    0.000000    2.00000   22.000000    0.000000    0.000000   \n",
      "50%     450.000000    0.000000    3.00000   28.000000    0.000000    0.000000   \n",
      "75%     670.500000    1.000000    3.00000   34.000000    1.000000    0.000000   \n",
      "max     891.000000    1.000000    3.00000   80.000000    5.000000    6.000000   \n",
      "\n",
      "             Fare  \n",
      "count  775.000000  \n",
      "mean    17.822091  \n",
      "std     13.578085  \n",
      "min      0.000000  \n",
      "25%      7.895800  \n",
      "50%     13.000000  \n",
      "75%     26.000000  \n",
      "max     65.000000  \n"
     ]
    }
   ],
   "source": [
    "# Step 5: Print the results\n",
    "print(\"Summary Statistics:\")\n",
    "print(summary_stats)\n"
   ]
  },
  {
   "cell_type": "code",
   "execution_count": 6,
   "id": "e24f514b",
   "metadata": {},
   "outputs": [
    {
     "name": "stdout",
     "output_type": "stream",
     "text": [
      "\n",
      "Mode:\n",
      "PassengerId                      1\n",
      "Survived                       0.0\n",
      "Pclass                         3.0\n",
      "Name           Abbing, Mr. Anthony\n",
      "Sex                           male\n",
      "Age                           28.0\n",
      "SibSp                          0.0\n",
      "Parch                          0.0\n",
      "Ticket                        1601\n",
      "Fare                          8.05\n",
      "Embarked                         S\n",
      "Name: 0, dtype: object\n"
     ]
    }
   ],
   "source": [
    "print(\"\\nMode:\")\n",
    "print(mode_stats)"
   ]
  },
  {
   "cell_type": "code",
   "execution_count": null,
   "id": "e378a069",
   "metadata": {},
   "outputs": [],
   "source": []
  }
 ],
 "metadata": {
  "kernelspec": {
   "display_name": "Python 3 (ipykernel)",
   "language": "python",
   "name": "python3"
  },
  "language_info": {
   "codemirror_mode": {
    "name": "ipython",
    "version": 3
   },
   "file_extension": ".py",
   "mimetype": "text/x-python",
   "name": "python",
   "nbconvert_exporter": "python",
   "pygments_lexer": "ipython3",
   "version": "3.9.7"
  }
 },
 "nbformat": 4,
 "nbformat_minor": 5
}
